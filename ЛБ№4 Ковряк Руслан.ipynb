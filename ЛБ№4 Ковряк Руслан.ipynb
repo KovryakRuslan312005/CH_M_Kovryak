{
  "cells": [
    {
      "cell_type": "markdown",
      "metadata": {
        "id": "view-in-github",
        "colab_type": "text"
      },
      "source": [
        "<a href=\"https://colab.research.google.com/github/KovryakRuslan312005/CH_M_Kovryak/blob/main/%D0%9B%D0%91%E2%84%964%20%D0%9A%D0%BE%D0%B2%D1%80%D1%8F%D0%BA%20%D0%A0%D1%83%D1%81%D0%BB%D0%B0%D0%BD.ipynb\" target=\"_parent\"><img src=\"https://colab.research.google.com/assets/colab-badge.svg\" alt=\"Open In Colab\"/></a>"
      ]
    },
    {
      "cell_type": "code",
      "execution_count": null,
      "metadata": {
        "colab": {
          "base_uri": "https://localhost:8080/"
        },
        "id": "-gE-Ez1qtyIA",
        "outputId": "918cf036-4237-4bb9-e8a4-7fdbd53cc611"
      },
      "outputs": [
        {
          "output_type": "stream",
          "name": "stdout",
          "text": [
            "Matrix C:\n",
            "[[ 4  1  9]\n",
            " [-2 -6  3]\n",
            " [-8 -9  2]]\n"
          ]
        }
      ],
      "source": [
        "#Завдання 1(приклад 2)\n",
        "import numpy as np\n",
        "\n",
        "# Define matrices A and B\n",
        "A = np.array([[2, 3, 1],\n",
        "              [-1, 1, 0],\n",
        "              [1, 2, -1]])\n",
        "\n",
        "B = np.array([[1, 2, 1],\n",
        "              [0, 1, 2],\n",
        "              [3, 1, 1]])\n",
        "\n",
        "# Calculate C = AB - BA\n",
        "C = np.dot(A, B) - np.dot(B, A)\n",
        "\n",
        "print(\"Matrix C:\")\n",
        "print(C)"
      ]
    },
    {
      "cell_type": "code",
      "execution_count": null,
      "metadata": {
        "colab": {
          "base_uri": "https://localhost:8080/"
        },
        "id": "C4HZx7Gndbrh",
        "outputId": "582fe3c9-f382-4c91-da1c-58f1ce8fc186"
      },
      "outputs": [
        {
          "output_type": "stream",
          "name": "stdout",
          "text": [
            "[[25  0  0  0]\n",
            " [ 0  4  0  0]\n",
            " [ 0  0  9  0]\n",
            " [ 0  0  0  4]]\n"
          ]
        }
      ],
      "source": [
        "#Завдання №2 (приклад 3)\n",
        "import numpy as np\n",
        "\n",
        "# Define matrix A as a NumPy array\n",
        "matrix_A = np.array([[5, 0, 0, 0],\n",
        "                     [0, -2, 0, 0],\n",
        "                     [0, 0, 3, 0],\n",
        "                     [0, 0, 0, 2]])\n",
        "\n",
        "# Calculate F = A^2\n",
        "matrix_F = np.dot(matrix_A, matrix_A)\n",
        "\n",
        "print(matrix_F)"
      ]
    },
    {
      "cell_type": "code",
      "source": [
        "#Завдання 3(приклад 2)\n",
        "matrix_A = np.array([[5, 8, -4],\n",
        "                      [6, 9, -5],\n",
        "                      [4, 7, -3]])\n",
        "\n",
        "matrix_B = np.array([[3, 2, 5],\n",
        "                      [4, -1, 3],\n",
        "                      [9, 6, 7]])\n",
        "\n",
        "# Calculate the product of A and B\n",
        "product = np.dot(matrix_A, matrix_B)\n",
        "\n",
        "print(\"Product of matrices A and B:\")\n",
        "print(product)"
      ],
      "metadata": {
        "id": "6bb5kl7ZPN7k",
        "outputId": "2422a719-3019-426f-ceee-3fe5f101ccfd",
        "colab": {
          "base_uri": "https://localhost:8080/"
        }
      },
      "execution_count": null,
      "outputs": [
        {
          "output_type": "stream",
          "name": "stdout",
          "text": [
            "Product of matrices A and B:\n",
            "[[ 11 -22  21]\n",
            " [  9 -27  22]\n",
            " [ 13 -17  20]]\n"
          ]
        }
      ]
    },
    {
      "cell_type": "code",
      "source": [
        "#Завдання 4(приклад 3)\n",
        "import numpy as np\n",
        "\n",
        "# Define matrix A as a NumPy array\n",
        "matrix_A = np.array([[2, 4, 5],\n",
        "                     [1, 1, 2],\n",
        "                     [2, 4, 3]])\n",
        "\n",
        "# Calculate the determinant of matrix A\n",
        "matrix_A_det = np.linalg.det(matrix_A)\n",
        "\n",
        "print(\"Determinant of matrix A:\")\n",
        "print(matrix_A_det)"
      ],
      "metadata": {
        "id": "8K1jFm7VPOH0",
        "outputId": "fba4bc94-dbac-497e-b377-c8eeb0b7b5d0",
        "colab": {
          "base_uri": "https://localhost:8080/"
        }
      },
      "execution_count": null,
      "outputs": [
        {
          "output_type": "stream",
          "name": "stdout",
          "text": [
            "Determinant of matrix A:\n",
            "4.0\n"
          ]
        }
      ]
    },
    {
      "cell_type": "code",
      "source": [
        "#Завдання 5(приклад 2)\n",
        "import numpy as np\n",
        "\n",
        "# Оголошення матриці як NumPy array\n",
        "matrix = np.array([[2, 3, 4, 1],\n",
        "                   [1, 2, 3, 4],\n",
        "                   [3, 4, 1, 2],\n",
        "                   [4, 1, 2, 3]])\n",
        "\n",
        "# Обчислення визначника матриці\n",
        "determinant = np.linalg.det(matrix)\n",
        "\n",
        "print(\"Determinant of the matrix:\")\n",
        "print(determinant)\n"
      ],
      "metadata": {
        "id": "QKWiJl4QPOQU",
        "outputId": "43998985-2cdb-4a98-b3ec-0c498fed7fcc",
        "colab": {
          "base_uri": "https://localhost:8080/"
        }
      },
      "execution_count": null,
      "outputs": [
        {
          "output_type": "stream",
          "name": "stdout",
          "text": [
            "Determinant of the matrix:\n",
            "-160.00000000000009\n"
          ]
        }
      ]
    },
    {
      "cell_type": "code",
      "source": [
        "#Завдання 6(приклад 3)\n",
        "import numpy as np\n",
        "\n",
        "# Оголошення матриці як NumPy array\n",
        "matrix_A = np.array([[1, 2, 2],\n",
        "                     [2, 1, -2],\n",
        "                     [2, -2, 1]])\n",
        "\n",
        "# Обчислення оберненої матриці\n",
        "matrix_A_inv = np.linalg.inv(matrix_A)\n",
        "\n",
        "print(\"Inverse of matrix A:\")\n",
        "print(matrix_A_inv)"
      ],
      "metadata": {
        "id": "m8oJzbR2POTD",
        "outputId": "09d6cbd0-86ef-412e-dae7-b88ceeff6901",
        "colab": {
          "base_uri": "https://localhost:8080/"
        }
      },
      "execution_count": null,
      "outputs": [
        {
          "output_type": "stream",
          "name": "stdout",
          "text": [
            "Inverse of matrix A:\n",
            "[[ 0.11111111  0.22222222  0.22222222]\n",
            " [ 0.22222222  0.11111111 -0.22222222]\n",
            " [ 0.22222222 -0.22222222  0.11111111]]\n"
          ]
        }
      ]
    },
    {
      "cell_type": "code",
      "source": [
        "#Завдання 7(приклад 2)\n",
        "import numpy as np\n",
        "\n",
        "# Оголошення матриці як NumPy array\n",
        "matrix = np.array([[1, -1, 3, 4],\n",
        "                   [0, -1, 2, 1],\n",
        "                   [1, 1, -1, 2],\n",
        "                   [2, 3, -5, 3]])\n",
        "\n",
        "# Обчислення рангу матриці\n",
        "rank = np.linalg.matrix_rank(matrix)\n",
        "\n",
        "print(\"Rank of the matrix:\")\n",
        "print(rank)"
      ],
      "metadata": {
        "id": "yxiGS1goPOVs",
        "outputId": "8969b9aa-561d-419a-f323-0cc3fe57cb33",
        "colab": {
          "base_uri": "https://localhost:8080/"
        }
      },
      "execution_count": null,
      "outputs": [
        {
          "output_type": "stream",
          "name": "stdout",
          "text": [
            "Rank of the matrix:\n",
            "3\n"
          ]
        }
      ]
    },
    {
      "cell_type": "code",
      "source": [
        "#Завдання №8 (варіант 9)\n",
        "import numpy as np\n",
        "\n",
        "# Оголошення матриці системи лінійних рівнянь A та вектора результатів B\n",
        "A = np.array([[1, -2, 3],\n",
        "              [4, 2, -3],\n",
        "              [3, -3, 5]])\n",
        "\n",
        "B = np.array([-5, 0, -9])\n",
        "\n",
        "# Метод Крамера\n",
        "det_A = np.linalg.det(A)\n",
        "x = np.linalg.det(np.column_stack((B, A[:, 1], A[:, 2]))) / det_A\n",
        "y = np.linalg.det(np.column_stack((A[:, 0], B, A[:, 2]))) / det_A\n",
        "z = np.linalg.det(np.column_stack((A[:, 0], A[:, 1], B))) / det_A\n",
        "\n",
        "print(\"Корені за методом Крамера:\", x, y, z)\n",
        "\n",
        "# Матричний метод (обчислення оберненої матриці)\n",
        "A_inv = np.linalg.inv(A)\n",
        "X = np.dot(A_inv, B)\n",
        "\n",
        "print(\"Корені за матричним методом:\", X)\n",
        "\n",
        "# Метод Гауса\n",
        "X = np.linalg.solve(A, B)\n",
        "\n",
        "print(\"Корені за методом Гауса:\", X)"
      ],
      "metadata": {
        "id": "M1wB6bEZPOYS",
        "outputId": "c9395e99-1377-45b8-ade6-f2f2b3becce5",
        "colab": {
          "base_uri": "https://localhost:8080/"
        }
      },
      "execution_count": null,
      "outputs": [
        {
          "output_type": "stream",
          "name": "stdout",
          "text": [
            "Корені за методом Крамера: -1.0000000000000004 1.9999999999999996 0.0\n",
            "Корені за матричним методом: [-1.0000000e+00  2.0000000e+00 -8.8817842e-16]\n",
            "Корені за методом Гауса: [-1.  2. -0.]\n"
          ]
        }
      ]
    },
    {
      "cell_type": "code",
      "source": [
        "#Завдання №9 (приклад 5)\n",
        "import numpy as np\n",
        "\n",
        "def random_matrix_sum(N, M):\n",
        "    # Створення прямокутної матриці з випадковими елементами\n",
        "    A = np.random.randint(1, 10, size=(N, M))\n",
        "\n",
        "    # Знайдемо суму всіх елементів матриці\n",
        "    total_sum = np.sum(A)\n",
        "\n",
        "    # Створимо пустий список для зберігання сум кожного рядка\n",
        "    row_sums = []\n",
        "\n",
        "    # Обчислимо суму елементів кожного рядка\n",
        "    for row in A:\n",
        "        row_sum = np.sum(row)\n",
        "        row_sums.append(row_sum)\n",
        "\n",
        "    # Перетворимо список в NumPy array\n",
        "    row_sums = np.array(row_sums)\n",
        "\n",
        "    # Визначимо, яку долю в цій сумі складає сума елементів кожного рядка\n",
        "    row_sum_fraction = row_sums / total_sum\n",
        "\n",
        "    return A, total_sum, row_sum_fraction\n",
        "\n",
        "# Виклик функції з вказаним розміром матриці\n",
        "N = 5\n",
        "M = 3\n",
        "matrix, total_sum, row_sum_fraction = random_matrix_sum(N, M)\n",
        "\n",
        "# Виведення результатів\n",
        "print(\"Прямокутна матриця A:\")\n",
        "print(matrix)\n",
        "print(\"\\nСума всіх елементів матриці:\", total_sum)\n",
        "print(\"\\nДоля суми елементів кожного рядка у сумі всіх елементів матриці:\")\n",
        "print(row_sum_fraction)"
      ],
      "metadata": {
        "id": "pLmnbUuXPOas",
        "outputId": "585dee2d-b424-4f0d-eca1-982aa687765b",
        "colab": {
          "base_uri": "https://localhost:8080/"
        }
      },
      "execution_count": null,
      "outputs": [
        {
          "output_type": "stream",
          "name": "stdout",
          "text": [
            "Прямокутна матриця A:\n",
            "[[4 1 5]\n",
            " [7 7 7]\n",
            " [9 1 9]\n",
            " [5 2 2]\n",
            " [5 3 5]]\n",
            "\n",
            "Сума всіх елементів матриці: 72\n",
            "\n",
            "Доля суми елементів кожного рядка у сумі всіх елементів матриці:\n",
            "[0.13888889 0.29166667 0.26388889 0.125      0.18055556]\n"
          ]
        }
      ]
    }
  ],
  "metadata": {
    "colab": {
      "toc_visible": true,
      "provenance": [],
      "include_colab_link": true
    },
    "kernelspec": {
      "display_name": "Python 3",
      "name": "python3"
    }
  },
  "nbformat": 4,
  "nbformat_minor": 0
}