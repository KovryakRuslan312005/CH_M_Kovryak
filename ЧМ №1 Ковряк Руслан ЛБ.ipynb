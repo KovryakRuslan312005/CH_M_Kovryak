{
  "cells": [
    {
      "cell_type": "markdown",
      "metadata": {
        "id": "view-in-github",
        "colab_type": "text"
      },
      "source": [
        "<a href=\"https://colab.research.google.com/github/KovryakRuslan312005/CH_M_Kovryak/blob/main/%D0%A7%D0%9C%20%E2%84%961%20%D0%9A%D0%BE%D0%B2%D1%80%D1%8F%D0%BA%20%D0%A0%D1%83%D1%81%D0%BB%D0%B0%D0%BD%20%D0%9B%D0%91.ipynb\" target=\"_parent\"><img src=\"https://colab.research.google.com/assets/colab-badge.svg\" alt=\"Open In Colab\"/></a>"
      ]
    },
    {
      "cell_type": "code",
      "execution_count": null,
      "metadata": {
        "id": "zwFnJsE6vjf8",
        "colab": {
          "base_uri": "https://localhost:8080/"
        },
        "outputId": "7fe72f6f-a0c9-4b6a-c174-bb2205701c83"
      },
      "outputs": [
        {
          "output_type": "stream",
          "name": "stdout",
          "text": [
            "Перша рівність точніша з відносною похибкою: 5e-05\n"
          ]
        }
      ],
      "source": [
        "\"pip install numpy\"\n",
        "import numpy as np\n",
        "\n",
        "x1_exact = np.sqrt(83)  # точне число x1\n",
        "x2_exact = 6 / 11       # точне число x2\n",
        "\n",
        "\n",
        "x1_approx = 9.11        # наближене число х1\n",
        "x2_approx = 0.545       # наближене число х2\n",
        "\n",
        "# Визначення функції для обчислення відносної похибки\n",
        "def relative_error(x_exact, x_approx):\n",
        "    return np.abs(x_exact - x_approx) / np.abs(x_exact)\n",
        "\n",
        "# Обчислення відносних похибок\n",
        "rel_error_x1 = relative_error(x1_exact, x1_approx)\n",
        "rel_error_x2 = relative_error(x2_exact, x2_approx)\n",
        "\n",
        "#Результат\n",
        "if rel_error_x1 < rel_error_x2:\n",
        "    print(\"Перша рівність точніша з відносною похибкою:\", round(rel_error_x1, 5))\n",
        "elif rel_error_x2 < rel_error_x1:\n",
        "    print(\"Друга рівність точніша з відносною похибкою:\", round(rel_error_x2, 5))\n",
        "else:\n",
        "    print(\"Обидві рівності мають однакову точність з відносною похибкою:\", round(rel_error_x2, 5))\n",
        "\n"
      ]
    }
  ],
  "metadata": {
    "colab": {
      "provenance": [],
      "include_colab_link": true
    },
    "kernelspec": {
      "display_name": "Python 3",
      "name": "python3"
    }
  },
  "nbformat": 4,
  "nbformat_minor": 0
}