{
  "cells": [
    {
      "cell_type": "markdown",
      "metadata": {
        "id": "view-in-github",
        "colab_type": "text"
      },
      "source": [
        "<a href=\"https://colab.research.google.com/github/KovryakRuslan312005/CH_M_Kovryak/blob/main/%D0%A0%D0%BE%D0%B1%D0%BE%D1%82%D0%B0%20%E2%84%962%20%D0%A7%D0%9C%20%D0%9A%D0%BE%D0%B2%D1%80%D1%8F%D0%BA%20%D0%A0%D1%83%D1%81%D0%BB%D0%B0%D0%BD.ipynb\" target=\"_parent\"><img src=\"https://colab.research.google.com/assets/colab-badge.svg\" alt=\"Open In Colab\"/></a>"
      ]
    },
    {
      "cell_type": "code",
      "execution_count": null,
      "metadata": {
        "id": "zwFnJsE6vjf8",
        "outputId": "260923b7-ffeb-4803-b94f-e4abb9d8648f",
        "colab": {
          "base_uri": "https://localhost:8080/"
        }
      },
      "outputs": [
        {
          "output_type": "stream",
          "name": "stdout",
          "text": [
            "Root: -1.36069\n",
            "x=  -1.36074   - Метод ділення пополам\n",
            "x=  -1.36069   - Метод хорд\n",
            "Root: 1.05599\n",
            "x=  1.05604   - Метод ділення пополам\n",
            "x=  1.05599   - Метод хорд\n"
          ]
        }
      ],
      "source": [
        " import numpy as np\n",
        "\n",
        "# Визначимо функцію, яка відповідає рівнянню 6x^4 + 4x^3 - x^2 - x - 10 = 0\n",
        "def f(x):\n",
        "    return 6 * pow(x, 4) + 4 * pow(x, 3) - pow(x, 2) - x - 10\n",
        "\n",
        "# Метод ділення пополам\n",
        "def rec(a, b, eps):\n",
        "    while (abs(a - b) > eps):\n",
        "        if (f(a) * f((a + b) / 2) < 0):\n",
        "            b = (a + b) / 2\n",
        "        else:\n",
        "            a = (a + b) / 2\n",
        "        x = (a + b) / 2\n",
        "    print('x= ', round(x, 5), '  - Метод ділення пополам')\n",
        "\n",
        "# Метод хорд\n",
        "def hord(a, b, eps):\n",
        "    if (f(a) * ((f(a + eps) - 2 * f(a) + f(a - eps)) / (eps ** 2)) > 0):\n",
        "        x0, xi = a, b\n",
        "    else:\n",
        "        x0, xi = b, a\n",
        "    xi_1 = xi - (xi - x0) * f(xi) / (f(xi) - f(x0))\n",
        "    while (abs(xi_1 - xi) > eps):\n",
        "        xi = xi_1\n",
        "        xi_1 = xi - (xi - x0) * f(xi) / (f(xi) - f(x0))\n",
        "    print('x= ', round(xi_1, 5), '  - Метод хорд')\n",
        "\n",
        "# Заданий епсілон\n",
        "eps = 0.0001\n",
        "\n",
        "# Знайдемо корені полінома за допомогою numpy.roots\n",
        "roots = np.roots([6, 4, -1, -1, -10])\n",
        "\n",
        "# Застосовуємо методи для знайдених коренів\n",
        "for root in roots:\n",
        "    if np.isreal(root):\n",
        "        root = np.real(root)\n",
        "        print(\"Root:\", round(root, 5))\n",
        "        rec(root - 0.1, root + 0.1, eps)\n",
        "        hord(root - 0.1, root + 0.1, eps)"
      ]
    }
  ],
  "metadata": {
    "colab": {
      "provenance": [],
      "include_colab_link": true
    },
    "kernelspec": {
      "display_name": "Python 3",
      "name": "python3"
    }
  },
  "nbformat": 4,
  "nbformat_minor": 0
}