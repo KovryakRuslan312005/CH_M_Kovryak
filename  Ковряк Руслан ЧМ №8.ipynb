{
  "cells": [
    {
      "cell_type": "markdown",
      "metadata": {
        "id": "view-in-github",
        "colab_type": "text"
      },
      "source": [
        "<a href=\"https://colab.research.google.com/github/KovryakRuslan312005/CH_M_Kovryak/blob/main/%20%D0%9A%D0%BE%D0%B2%D1%80%D1%8F%D0%BA%20%D0%A0%D1%83%D1%81%D0%BB%D0%B0%D0%BD%20%D0%A7%D0%9C%20%E2%84%968.ipynb\" target=\"_parent\"><img src=\"https://colab.research.google.com/assets/colab-badge.svg\" alt=\"Open In Colab\"/></a>"
      ]
    },
    {
      "cell_type": "code",
      "execution_count": null,
      "metadata": {
        "id": "zwFnJsE6vjf8",
        "outputId": "7d623279-bf18-4a5f-e605-b467f7dafb4c",
        "colab": {
          "base_uri": "https://localhost:8080/"
        }
      },
      "outputs": [
        {
          "output_type": "stream",
          "name": "stdout",
          "text": [
            "V_1:\n",
            "F_0(x) = 2.63 + 2.7117(x - 0.7) + 0.0(x - 0.7)^2 + -31.1686(x - 0.7)^3, x належить [0.7, 0.8]\n",
            "V_2:\n",
            "F_1(x) = 2.87 + 1.7766(x - 0.8) + -9.3506(x - 0.8)^2 + 6.1546(x - 0.8)^3, x належить [0.8, 1.3]\n",
            "V_3:\n",
            "F_2(x) = 2.19 + -2.958(x - 1.3) + -0.1186(x - 1.3)^2 + 20.7924(x - 1.3)^3, x належить [1.3, 1.5]\n",
            "V_4:\n",
            "F_3(x) = 1.76 + -2.1594(x - 1.5) + 12.3568(x - 1.5)^2 + 6.8649(x - 1.5)^3, x належить [1.5, 2.1]\n"
          ]
        }
      ],
      "source": [
        "import numpy as np\n",
        "\n",
        "x = np.array([0.7, 0.8, 1.3, 1.5, 2.1])\n",
        "y = np.array([2.63, 2.87, 2.19, 1.76, 3.43])\n",
        "n = len(x) - 1\n",
        "h = np.diff(x)\n",
        "a = y\n",
        "b = np.zeros(n)\n",
        "d = np.zeros(n)\n",
        "c = np.zeros(n)\n",
        "alpha = np.zeros(n)\n",
        "\n",
        "for i in range(1, n):\n",
        "    alpha[i] = (3 / h[i]) * (a[i+1] - a[i]) - (3 / h[i-1]) * (a[i] - a[i-1])\n",
        "\n",
        "l = np.ones(n)\n",
        "mu = np.zeros(n)\n",
        "z = np.zeros(n)\n",
        "\n",
        "for i in range(1, n):\n",
        "    l[i] = 2 * (x[i+1] - x[i-1]) - h[i-1] * mu[i-1]\n",
        "    mu[i] = h[i] / l[i]\n",
        "    z[i] = (alpha[i] - h[i-1] * z[i-1]) / l[i]\n",
        "\n",
        "c[n-1] = (alpha[n-1] - h[n-2] * z[n-2]) / (2 * (h[n-2] + mu[n-1]))\n",
        "b[n-1] = (a[n] - a[n-1]) / h[n-1] - h[n-1] * (2 * c[n-1] + c[n-2]) / 3\n",
        "d[n-1] = (c[n-1] - c[n-2]) / (3 * h[n-1])\n",
        "\n",
        "for j in range(n - 2, -1, -1):\n",
        "    c[j] = z[j] - mu[j] * c[j+1]\n",
        "    b[j] = (a[j+1] - a[j]) / h[j] - h[j] * (c[j+1] + 2 * c[j]) / 3\n",
        "    d[j] = (c[j+1] - c[j]) / (3 * h[j])\n",
        "\n",
        "for i in range(n):\n",
        "    print(f\"V_{i+1}:\")\n",
        "    print(f\"F_{i}(x) = {a[i]} + {b[i].round(4)}(x - {x[i]}) + {c[i].round(4)}(x - {x[i]})^2 + {d[i].round(4)}(x - {x[i]})^3, x належить [{x[i]}, {x[i+1]}]\")"
      ]
    },
    {
      "cell_type": "code",
      "source": [
        "import numpy as np\n",
        "from scipy.interpolate import CubicSpline\n",
        "import matplotlib.pyplot as plt\n",
        "\n",
        "x_vals = np.array([0.7, 0.8, 1.3, 1.5, 2.1])\n",
        "y_vals = np.array([2.63, 2.87, 2.19, 1.76, 3.43])\n",
        "\n",
        "cs = CubicSpline(x_vals, y_vals)\n",
        "\n",
        "x_new = np.linspace(np.min(x_vals), np.max(x_vals), 100)\n",
        "y_new = cs(x_new)\n",
        "\n",
        "print(\"Results:\")\n",
        "for i in range(len(x_new)):\n",
        "    print(f\"x = {x_new[i]:.2f}, y = {y_new[i]:.3f}\")\n",
        "\n",
        "plt.figure(figsize=(8, 6))\n",
        "plt.plot(x_vals, y_vals, 'o', label='Data')\n",
        "plt.plot(x_new, y_new, label='Spline')\n",
        "plt.xlabel('x')\n",
        "plt.ylabel('y')\n",
        "plt.title('Cubic Spline')\n",
        "plt.legend()\n",
        "plt.grid(True)\n",
        "plt.show()"
      ],
      "metadata": {
        "id": "cIEgBFG-fQFD",
        "outputId": "6f4e7b78-4380-4d4a-8544-c4bdd4af6597",
        "colab": {
          "base_uri": "https://localhost:8080/",
          "height": 1000
        }
      },
      "execution_count": null,
      "outputs": [
        {
          "output_type": "stream",
          "name": "stdout",
          "text": [
            "Results:\n",
            "x = 0.70, y = 2.630\n",
            "x = 0.71, y = 2.676\n",
            "x = 0.73, y = 2.718\n",
            "x = 0.74, y = 2.756\n",
            "x = 0.76, y = 2.790\n",
            "x = 0.77, y = 2.820\n",
            "x = 0.78, y = 2.846\n",
            "x = 0.80, y = 2.869\n",
            "x = 0.81, y = 2.887\n",
            "x = 0.83, y = 2.903\n",
            "x = 0.84, y = 2.915\n",
            "x = 0.86, y = 2.924\n",
            "x = 0.87, y = 2.930\n",
            "x = 0.88, y = 2.933\n",
            "x = 0.90, y = 2.933\n",
            "x = 0.91, y = 2.930\n",
            "x = 0.93, y = 2.924\n",
            "x = 0.94, y = 2.916\n",
            "x = 0.95, y = 2.906\n",
            "x = 0.97, y = 2.893\n",
            "x = 0.98, y = 2.878\n",
            "x = 1.00, y = 2.861\n",
            "x = 1.01, y = 2.842\n",
            "x = 1.03, y = 2.820\n",
            "x = 1.04, y = 2.798\n",
            "x = 1.05, y = 2.773\n",
            "x = 1.07, y = 2.747\n",
            "x = 1.08, y = 2.719\n",
            "x = 1.10, y = 2.690\n",
            "x = 1.11, y = 2.660\n",
            "x = 1.12, y = 2.629\n",
            "x = 1.14, y = 2.596\n",
            "x = 1.15, y = 2.563\n",
            "x = 1.17, y = 2.529\n",
            "x = 1.18, y = 2.494\n",
            "x = 1.19, y = 2.459\n",
            "x = 1.21, y = 2.423\n",
            "x = 1.22, y = 2.387\n",
            "x = 1.24, y = 2.351\n",
            "x = 1.25, y = 2.315\n",
            "x = 1.27, y = 2.278\n",
            "x = 1.28, y = 2.242\n",
            "x = 1.29, y = 2.205\n",
            "x = 1.31, y = 2.170\n",
            "x = 1.32, y = 2.134\n",
            "x = 1.34, y = 2.099\n",
            "x = 1.35, y = 2.065\n",
            "x = 1.36, y = 2.031\n",
            "x = 1.38, y = 1.998\n",
            "x = 1.39, y = 1.966\n",
            "x = 1.41, y = 1.935\n",
            "x = 1.42, y = 1.905\n",
            "x = 1.44, y = 1.876\n",
            "x = 1.45, y = 1.848\n",
            "x = 1.46, y = 1.821\n",
            "x = 1.48, y = 1.796\n",
            "x = 1.49, y = 1.773\n",
            "x = 1.51, y = 1.751\n",
            "x = 1.52, y = 1.730\n",
            "x = 1.53, y = 1.712\n",
            "x = 1.55, y = 1.695\n",
            "x = 1.56, y = 1.680\n",
            "x = 1.58, y = 1.667\n",
            "x = 1.59, y = 1.657\n",
            "x = 1.61, y = 1.648\n",
            "x = 1.62, y = 1.642\n",
            "x = 1.63, y = 1.638\n",
            "x = 1.65, y = 1.637\n",
            "x = 1.66, y = 1.638\n",
            "x = 1.68, y = 1.642\n",
            "x = 1.69, y = 1.648\n",
            "x = 1.70, y = 1.658\n",
            "x = 1.72, y = 1.670\n",
            "x = 1.73, y = 1.685\n",
            "x = 1.75, y = 1.704\n",
            "x = 1.76, y = 1.725\n",
            "x = 1.77, y = 1.750\n",
            "x = 1.79, y = 1.778\n",
            "x = 1.80, y = 1.810\n",
            "x = 1.82, y = 1.845\n",
            "x = 1.83, y = 1.884\n",
            "x = 1.85, y = 1.926\n",
            "x = 1.86, y = 1.973\n",
            "x = 1.87, y = 2.023\n",
            "x = 1.89, y = 2.077\n",
            "x = 1.90, y = 2.136\n",
            "x = 1.92, y = 2.198\n",
            "x = 1.93, y = 2.265\n",
            "x = 1.94, y = 2.336\n",
            "x = 1.96, y = 2.411\n",
            "x = 1.97, y = 2.491\n",
            "x = 1.99, y = 2.576\n",
            "x = 2.00, y = 2.665\n",
            "x = 2.02, y = 2.760\n",
            "x = 2.03, y = 2.859\n",
            "x = 2.04, y = 2.963\n",
            "x = 2.06, y = 3.072\n",
            "x = 2.07, y = 3.186\n",
            "x = 2.09, y = 3.305\n",
            "x = 2.10, y = 3.430\n"
          ]
        },
        {
          "output_type": "display_data",
          "data": {
            "text/plain": [
              "<Figure size 800x600 with 1 Axes>"
            ],
            "image/png": "[encoded data removed]"
          },
          "metadata": {}
        }
      ]
    }
  ],
  "metadata": {
    "colab": {
      "toc_visible": true,
      "provenance": [],
      "include_colab_link": true
    },
    "kernelspec": {
      "display_name": "Python 3",
      "name": "python3"
    }
  },
  "nbformat": 4,
  "nbformat_minor": 0
}